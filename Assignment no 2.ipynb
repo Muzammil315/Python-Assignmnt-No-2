{
 "cells": [
  {
   "cell_type": "code",
   "execution_count": 1,
   "metadata": {},
   "outputs": [
    {
     "name": "stdout",
     "output_type": "stream",
     "text": [
      "Enter your Computer marks78\n",
      "Enter your Physics marks89\n",
      "Enter your Maths marks68\n",
      "Enter your Programming marks90\n",
      "Enter your Database marks89\n",
      "\n",
      "Total Obtained Marks:  414\n",
      "\n",
      "Percentage of all Subjects:  82.8\n",
      "\n",
      "Your Grade is A+\n"
     ]
    }
   ],
   "source": [
    "#1. Write a program which takes 5 inputs from user for different subject’s marks, total it and generate mark sheet using grades ?\n",
    "Computer = int(input(\"Enter your Computer marks\"));\n",
    "Physics = int(input(\"Enter your Physics marks\"));\n",
    "Maths = int(input(\"Enter your Maths marks\"));\n",
    "Programming = int(input(\"Enter your Programming marks\"));\n",
    "Database = int(input(\"Enter your Database marks\"));\n",
    "Total_obtained = (Computer + Physics + Maths + Programming + Database);\n",
    "print(\"\\nTotal Obtained Marks: \",Total_obtained);\n",
    "Percentage = (Total_obtained * 100) / 500\n",
    "print(\"\\nPercentage of all Subjects: \",Percentage)\n",
    "if Percentage > 0 and Percentage < 100:\n",
    "        if Percentage >= 80 and Percentage <= 100:\n",
    "            print(\"\\nYour Grade is A+\")\n",
    "        elif Percentage >= 70 and Percentage <= 80:\n",
    "            print(\"\\nYour Grade is A+\")\n",
    "        elif Percentage >= 60 and Percentage <= 70:\n",
    "            print(\"\\nYour Grade is A\")\n",
    "        elif Percentage >= 50 and Percentage <= 60:\n",
    "            print(\"\\nYour Grade is B\")\n",
    "        elif Percentage >= 40 and Percentage <= 50:\n",
    "            print(\"\\nYour Grade is C\")\n",
    "        elif Percentage >33 and Percentage <= 40:\n",
    "            print(\"\\nYour Grade is D\")\n",
    "        elif Percentage <= 33 and Percentage > 0:\n",
    "            print(\"\\nSorry You are Failed Grade is F\")\n",
    "else:\n",
    "    print(\"\\nIncorrect Numbers\")"
   ]
  },
  {
   "cell_type": "code",
   "execution_count": 2,
   "metadata": {},
   "outputs": [
    {
     "name": "stdout",
     "output_type": "stream",
     "text": [
      "enter a number to check it is even or odd: 6\n",
      "it's a even number\n"
     ]
    }
   ],
   "source": [
    "#2. Write a program which take input from user and identify that the given number is even or odd?\n",
    "var = int(input(\"enter a number to check it is even or odd: \"))\n",
    "if var %2 == 0:\n",
    "    print(\"it's a even number\")\n",
    "else:\n",
    "    print(\"its's a odd number\")"
   ]
  },
  {
   "cell_type": "code",
   "execution_count": 3,
   "metadata": {},
   "outputs": [
    {
     "name": "stdout",
     "output_type": "stream",
     "text": [
      "11\n",
      "11\n"
     ]
    }
   ],
   "source": [
    "#3. Write a program which print the length of the list?\n",
    "list_1 = len([1, 2, 3, 4, 5, 'a', 'b', 'c', 'x', 'y', 'z'])\n",
    "print(list_1)\n",
    "#OR\n",
    "list_1 = [1, 2, 3, 4, 5, 'a', 'b', 'c', 'x', 'y', 'z']\n",
    "print(len(list_1))"
   ]
  },
  {
   "cell_type": "code",
   "execution_count": null,
   "metadata": {},
   "outputs": [
    {
     "name": "stdout",
     "output_type": "stream",
     "text": [
      "174\n",
      "enter the range of list here: 78\n",
      "enter value here: 67\n",
      "sum of list elements are:  67\n",
      "enter value here: 67\n",
      "sum of list elements are:  134\n"
     ]
    }
   ],
   "source": [
    "#4. Write a Python program to sum all the numeric items in a list?\n",
    "lst = sum([12, 22, 31, 17, 92])\n",
    "print(lst)\n",
    "#OR\n",
    "lst_1 = []\n",
    "r = int(input(\"enter the range of list here: \"))\n",
    "for i in range(r):\n",
    "    var = int(input(\"enter value here: \"))\n",
    "    lst_1.append(var)\n",
    "    print(\"sum of list elements are: \", sum(lst_1))"
   ]
  },
  {
   "cell_type": "code",
   "execution_count": 1,
   "metadata": {},
   "outputs": [
    {
     "name": "stdout",
     "output_type": "stream",
     "text": [
      "1080\n",
      "6\n"
     ]
    }
   ],
   "source": [
    "#5.(A) Write a Python program to get the largest number from a numeric list.\n",
    "my_list = max([11,333,6,1080,320,77,62])\n",
    "print(my_list)\n",
    "#5.(B) Write a Python program to get the smallest number from a numeric list.\n",
    "my_list = min([11,333,6,1080,320,77,62])\n",
    "print(my_list)"
   ]
  },
  {
   "cell_type": "code",
   "execution_count": 2,
   "metadata": {},
   "outputs": [
    {
     "name": "stdout",
     "output_type": "stream",
     "text": [
      "[1]\n",
      "[1, 1]\n",
      "[1, 1, 2]\n",
      "[1, 1, 2, 3]\n"
     ]
    }
   ],
   "source": [
    "#6. Take a list, say for example this one:\n",
    "#a = [1, 1, 2, 3, 5, 8, 13, 21, 34, 55, 89]\n",
    "#and write a program that prints out all the elements of the list that are less than 5.\n",
    "a = [1, 1, 2, 3, 5, 8, 13, 21, 34, 55, 89]\n",
    "x = []\n",
    "for i in a:\n",
    "    if i < 5:\n",
    "        x.append(i)\n",
    "        print(x)"
   ]
  },
  {
   "cell_type": "code",
   "execution_count": null,
   "metadata": {},
   "outputs": [],
   "source": []
  }
 ],
 "metadata": {
  "kernelspec": {
   "display_name": "Python 3",
   "language": "python",
   "name": "python3"
  },
  "language_info": {
   "codemirror_mode": {
    "name": "ipython",
    "version": 3
   },
   "file_extension": ".py",
   "mimetype": "text/x-python",
   "name": "python",
   "nbconvert_exporter": "python",
   "pygments_lexer": "ipython3",
   "version": "3.7.4"
  }
 },
 "nbformat": 4,
 "nbformat_minor": 2
}
